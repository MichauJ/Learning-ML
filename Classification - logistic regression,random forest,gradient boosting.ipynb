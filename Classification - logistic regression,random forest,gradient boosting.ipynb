{
 "cells": [
  {
   "metadata": {
    "ExecuteTime": {
     "end_time": "2025-02-03T20:46:47.259047Z",
     "start_time": "2025-02-03T20:46:47.086052Z"
    }
   },
   "cell_type": "code",
   "source": [
    "import pandas as pd\n",
    "import numpy as np\n",
    "import seaborn as sns\n",
    "import matplotlib.pyplot as plt\n",
    "from sklearn.model_selection import train_test_split\n",
    "from sklearn.linear_model import LogisticRegression\n",
    "from sklearn.tree import DecisionTreeClassifier\n",
    "from sklearn.ensemble import RandomForestClassifier,GradientBoostingClassifier\n",
    "from sklearn.metrics import classification_report, confusion_matrix, precision_score, recall_score, f1_score, accuracy_score\n",
    "from os import chdir,getcwd"
   ],
   "id": "e47a02a184a874e5",
   "outputs": [],
   "execution_count": 1
  },
  {
   "cell_type": "code",
   "id": "initial_id",
   "metadata": {
    "collapsed": true,
    "ExecuteTime": {
     "end_time": "2025-02-03T20:46:47.275053Z",
     "start_time": "2025-02-03T20:46:47.268049Z"
    }
   },
   "source": "url = \"https://raw.githubusercontent.com/MichauJ/Learning-ML/refs/heads/main/Data/adult.csv\"",
   "outputs": [],
   "execution_count": 2
  },
  {
   "metadata": {
    "ExecuteTime": {
     "end_time": "2025-02-03T20:46:48.757639Z",
     "start_time": "2025-02-03T20:46:47.355922Z"
    }
   },
   "cell_type": "code",
   "source": "census = pd.read_csv(url,na_values=\"?\")\n",
   "id": "e9aff68f1fc5c16b",
   "outputs": [],
   "execution_count": 3
  },
  {
   "metadata": {
    "ExecuteTime": {
     "end_time": "2025-02-03T20:46:48.803549Z",
     "start_time": "2025-02-03T20:46:48.775689Z"
    }
   },
   "cell_type": "code",
   "source": "census.info()",
   "id": "47490d3e92b57459",
   "outputs": [
    {
     "name": "stdout",
     "output_type": "stream",
     "text": [
      "<class 'pandas.core.frame.DataFrame'>\n",
      "RangeIndex: 32561 entries, 0 to 32560\n",
      "Data columns (total 15 columns):\n",
      " #   Column          Non-Null Count  Dtype \n",
      "---  ------          --------------  ----- \n",
      " 0   age             32561 non-null  int64 \n",
      " 1   workclass       30725 non-null  object\n",
      " 2   fnlwgt          32561 non-null  int64 \n",
      " 3   education       32561 non-null  object\n",
      " 4   education.num   32561 non-null  int64 \n",
      " 5   marital.status  32561 non-null  object\n",
      " 6   occupation      30718 non-null  object\n",
      " 7   relationship    32561 non-null  object\n",
      " 8   race            32561 non-null  object\n",
      " 9   sex             32561 non-null  object\n",
      " 10  capital.gain    32561 non-null  int64 \n",
      " 11  capital.loss    32561 non-null  int64 \n",
      " 12  hours.per.week  32561 non-null  int64 \n",
      " 13  native.country  31978 non-null  object\n",
      " 14  income          32561 non-null  object\n",
      "dtypes: int64(6), object(9)\n",
      "memory usage: 3.7+ MB\n"
     ]
    }
   ],
   "execution_count": 4
  },
  {
   "metadata": {
    "ExecuteTime": {
     "end_time": "2025-02-03T20:46:48.835543Z",
     "start_time": "2025-02-03T20:46:48.820543Z"
    }
   },
   "cell_type": "code",
   "source": "census.head(10)",
   "id": "4e1afa0b804f9748",
   "outputs": [
    {
     "data": {
      "text/plain": [
       "   age    workclass  fnlwgt     education  education.num marital.status  \\\n",
       "0   90          NaN   77053       HS-grad              9        Widowed   \n",
       "1   82      Private  132870       HS-grad              9        Widowed   \n",
       "2   66          NaN  186061  Some-college             10        Widowed   \n",
       "3   54      Private  140359       7th-8th              4       Divorced   \n",
       "4   41      Private  264663  Some-college             10      Separated   \n",
       "5   34      Private  216864       HS-grad              9       Divorced   \n",
       "6   38      Private  150601          10th              6      Separated   \n",
       "7   74    State-gov   88638     Doctorate             16  Never-married   \n",
       "8   68  Federal-gov  422013       HS-grad              9       Divorced   \n",
       "9   41      Private   70037  Some-college             10  Never-married   \n",
       "\n",
       "          occupation    relationship   race     sex  capital.gain  \\\n",
       "0                NaN   Not-in-family  White  Female             0   \n",
       "1    Exec-managerial   Not-in-family  White  Female             0   \n",
       "2                NaN       Unmarried  Black  Female             0   \n",
       "3  Machine-op-inspct       Unmarried  White  Female             0   \n",
       "4     Prof-specialty       Own-child  White  Female             0   \n",
       "5      Other-service       Unmarried  White  Female             0   \n",
       "6       Adm-clerical       Unmarried  White    Male             0   \n",
       "7     Prof-specialty  Other-relative  White  Female             0   \n",
       "8     Prof-specialty   Not-in-family  White  Female             0   \n",
       "9       Craft-repair       Unmarried  White    Male             0   \n",
       "\n",
       "   capital.loss  hours.per.week native.country income  \n",
       "0          4356              40  United-States  <=50K  \n",
       "1          4356              18  United-States  <=50K  \n",
       "2          4356              40  United-States  <=50K  \n",
       "3          3900              40  United-States  <=50K  \n",
       "4          3900              40  United-States  <=50K  \n",
       "5          3770              45  United-States  <=50K  \n",
       "6          3770              40  United-States  <=50K  \n",
       "7          3683              20  United-States   >50K  \n",
       "8          3683              40  United-States  <=50K  \n",
       "9          3004              60            NaN   >50K  "
      ],
      "text/html": [
       "<div>\n",
       "<style scoped>\n",
       "    .dataframe tbody tr th:only-of-type {\n",
       "        vertical-align: middle;\n",
       "    }\n",
       "\n",
       "    .dataframe tbody tr th {\n",
       "        vertical-align: top;\n",
       "    }\n",
       "\n",
       "    .dataframe thead th {\n",
       "        text-align: right;\n",
       "    }\n",
       "</style>\n",
       "<table border=\"1\" class=\"dataframe\">\n",
       "  <thead>\n",
       "    <tr style=\"text-align: right;\">\n",
       "      <th></th>\n",
       "      <th>age</th>\n",
       "      <th>workclass</th>\n",
       "      <th>fnlwgt</th>\n",
       "      <th>education</th>\n",
       "      <th>education.num</th>\n",
       "      <th>marital.status</th>\n",
       "      <th>occupation</th>\n",
       "      <th>relationship</th>\n",
       "      <th>race</th>\n",
       "      <th>sex</th>\n",
       "      <th>capital.gain</th>\n",
       "      <th>capital.loss</th>\n",
       "      <th>hours.per.week</th>\n",
       "      <th>native.country</th>\n",
       "      <th>income</th>\n",
       "    </tr>\n",
       "  </thead>\n",
       "  <tbody>\n",
       "    <tr>\n",
       "      <th>0</th>\n",
       "      <td>90</td>\n",
       "      <td>NaN</td>\n",
       "      <td>77053</td>\n",
       "      <td>HS-grad</td>\n",
       "      <td>9</td>\n",
       "      <td>Widowed</td>\n",
       "      <td>NaN</td>\n",
       "      <td>Not-in-family</td>\n",
       "      <td>White</td>\n",
       "      <td>Female</td>\n",
       "      <td>0</td>\n",
       "      <td>4356</td>\n",
       "      <td>40</td>\n",
       "      <td>United-States</td>\n",
       "      <td>&lt;=50K</td>\n",
       "    </tr>\n",
       "    <tr>\n",
       "      <th>1</th>\n",
       "      <td>82</td>\n",
       "      <td>Private</td>\n",
       "      <td>132870</td>\n",
       "      <td>HS-grad</td>\n",
       "      <td>9</td>\n",
       "      <td>Widowed</td>\n",
       "      <td>Exec-managerial</td>\n",
       "      <td>Not-in-family</td>\n",
       "      <td>White</td>\n",
       "      <td>Female</td>\n",
       "      <td>0</td>\n",
       "      <td>4356</td>\n",
       "      <td>18</td>\n",
       "      <td>United-States</td>\n",
       "      <td>&lt;=50K</td>\n",
       "    </tr>\n",
       "    <tr>\n",
       "      <th>2</th>\n",
       "      <td>66</td>\n",
       "      <td>NaN</td>\n",
       "      <td>186061</td>\n",
       "      <td>Some-college</td>\n",
       "      <td>10</td>\n",
       "      <td>Widowed</td>\n",
       "      <td>NaN</td>\n",
       "      <td>Unmarried</td>\n",
       "      <td>Black</td>\n",
       "      <td>Female</td>\n",
       "      <td>0</td>\n",
       "      <td>4356</td>\n",
       "      <td>40</td>\n",
       "      <td>United-States</td>\n",
       "      <td>&lt;=50K</td>\n",
       "    </tr>\n",
       "    <tr>\n",
       "      <th>3</th>\n",
       "      <td>54</td>\n",
       "      <td>Private</td>\n",
       "      <td>140359</td>\n",
       "      <td>7th-8th</td>\n",
       "      <td>4</td>\n",
       "      <td>Divorced</td>\n",
       "      <td>Machine-op-inspct</td>\n",
       "      <td>Unmarried</td>\n",
       "      <td>White</td>\n",
       "      <td>Female</td>\n",
       "      <td>0</td>\n",
       "      <td>3900</td>\n",
       "      <td>40</td>\n",
       "      <td>United-States</td>\n",
       "      <td>&lt;=50K</td>\n",
       "    </tr>\n",
       "    <tr>\n",
       "      <th>4</th>\n",
       "      <td>41</td>\n",
       "      <td>Private</td>\n",
       "      <td>264663</td>\n",
       "      <td>Some-college</td>\n",
       "      <td>10</td>\n",
       "      <td>Separated</td>\n",
       "      <td>Prof-specialty</td>\n",
       "      <td>Own-child</td>\n",
       "      <td>White</td>\n",
       "      <td>Female</td>\n",
       "      <td>0</td>\n",
       "      <td>3900</td>\n",
       "      <td>40</td>\n",
       "      <td>United-States</td>\n",
       "      <td>&lt;=50K</td>\n",
       "    </tr>\n",
       "    <tr>\n",
       "      <th>5</th>\n",
       "      <td>34</td>\n",
       "      <td>Private</td>\n",
       "      <td>216864</td>\n",
       "      <td>HS-grad</td>\n",
       "      <td>9</td>\n",
       "      <td>Divorced</td>\n",
       "      <td>Other-service</td>\n",
       "      <td>Unmarried</td>\n",
       "      <td>White</td>\n",
       "      <td>Female</td>\n",
       "      <td>0</td>\n",
       "      <td>3770</td>\n",
       "      <td>45</td>\n",
       "      <td>United-States</td>\n",
       "      <td>&lt;=50K</td>\n",
       "    </tr>\n",
       "    <tr>\n",
       "      <th>6</th>\n",
       "      <td>38</td>\n",
       "      <td>Private</td>\n",
       "      <td>150601</td>\n",
       "      <td>10th</td>\n",
       "      <td>6</td>\n",
       "      <td>Separated</td>\n",
       "      <td>Adm-clerical</td>\n",
       "      <td>Unmarried</td>\n",
       "      <td>White</td>\n",
       "      <td>Male</td>\n",
       "      <td>0</td>\n",
       "      <td>3770</td>\n",
       "      <td>40</td>\n",
       "      <td>United-States</td>\n",
       "      <td>&lt;=50K</td>\n",
       "    </tr>\n",
       "    <tr>\n",
       "      <th>7</th>\n",
       "      <td>74</td>\n",
       "      <td>State-gov</td>\n",
       "      <td>88638</td>\n",
       "      <td>Doctorate</td>\n",
       "      <td>16</td>\n",
       "      <td>Never-married</td>\n",
       "      <td>Prof-specialty</td>\n",
       "      <td>Other-relative</td>\n",
       "      <td>White</td>\n",
       "      <td>Female</td>\n",
       "      <td>0</td>\n",
       "      <td>3683</td>\n",
       "      <td>20</td>\n",
       "      <td>United-States</td>\n",
       "      <td>&gt;50K</td>\n",
       "    </tr>\n",
       "    <tr>\n",
       "      <th>8</th>\n",
       "      <td>68</td>\n",
       "      <td>Federal-gov</td>\n",
       "      <td>422013</td>\n",
       "      <td>HS-grad</td>\n",
       "      <td>9</td>\n",
       "      <td>Divorced</td>\n",
       "      <td>Prof-specialty</td>\n",
       "      <td>Not-in-family</td>\n",
       "      <td>White</td>\n",
       "      <td>Female</td>\n",
       "      <td>0</td>\n",
       "      <td>3683</td>\n",
       "      <td>40</td>\n",
       "      <td>United-States</td>\n",
       "      <td>&lt;=50K</td>\n",
       "    </tr>\n",
       "    <tr>\n",
       "      <th>9</th>\n",
       "      <td>41</td>\n",
       "      <td>Private</td>\n",
       "      <td>70037</td>\n",
       "      <td>Some-college</td>\n",
       "      <td>10</td>\n",
       "      <td>Never-married</td>\n",
       "      <td>Craft-repair</td>\n",
       "      <td>Unmarried</td>\n",
       "      <td>White</td>\n",
       "      <td>Male</td>\n",
       "      <td>0</td>\n",
       "      <td>3004</td>\n",
       "      <td>60</td>\n",
       "      <td>NaN</td>\n",
       "      <td>&gt;50K</td>\n",
       "    </tr>\n",
       "  </tbody>\n",
       "</table>\n",
       "</div>"
      ]
     },
     "execution_count": 5,
     "metadata": {},
     "output_type": "execute_result"
    }
   ],
   "execution_count": 5
  },
  {
   "metadata": {},
   "cell_type": "raw",
   "source": [
    "\"\"\"\n",
    "# Variable description\n",
    "# • age\t              INTEGER\tAge\n",
    "# • workclass\t        STRING\tNature of employment\n",
    "# • fnlwgt\t          INTEGER\tfunctional_weight Sample weight of the individual from the original Census data. How likely they were to be included in this dataset, based on their demographic characteristics vs. whole-population estimates.\n",
    "# • education\t        STRING\tLevel of education completed\n",
    "# • education.num\t    INTEGER\tEstimated years of education completed based on the value of the education field.\n",
    "# • marital.status\t  STRING\tMarital status\n",
    "# • occupation\t      STRING\tOccupation category\n",
    "# • relationship\t    STRING\tRelationship to the household\n",
    "# • race\t            STRING\tRace\n",
    "# • sex\t              STRING\tGender\n",
    "# • capital.gain\t    INTEGER\tAmount of capital gains\n",
    "# • capital.loss\t    INTEGER\tAmount of capital loss\n",
    "# • hours.per.week\t  INTEGER\tHours worked per week\n",
    "# • native.country\t  STRING\tCountry of birth\n",
    "# • income\t          STRING\tEither \">50K\" or \"<=50K\" based on income.\n",
    "\"\"\""
   ],
   "id": "213e1a57044ad438"
  },
  {
   "metadata": {
    "ExecuteTime": {
     "end_time": "2025-02-03T20:46:50.897667Z",
     "start_time": "2025-02-03T20:46:48.962241Z"
    }
   },
   "cell_type": "code",
   "source": [
    "# summary of numerical variables\n",
    "numeric_columns = [\"age\", \"fnlwgt\", \"education.num\", \"capital.gain\", \"capital.loss\", \"hours.per.week\"]\n",
    "for col in numeric_columns:\n",
    "    #print(f\"Summary of {col}:\")\n",
    "    #print(census[col].describe())\n",
    "    #print(census[col].value_counts())\n",
    "    plt.figure()\n",
    "    sns.histplot(census[col], kde=True)\n",
    "    plt.show()"
   ],
   "id": "2286ad2d311d6ed0",
   "outputs": [
    {
     "data": {
      "text/plain": [
       "<Figure size 640x480 with 1 Axes>"
      ],
      "image/png": "[encoded data removed]"
     },
     "metadata": {},
     "output_type": "display_data"
    },
    {
     "data": {
      "text/plain": [
       "<Figure size 640x480 with 1 Axes>"
      ],
      "image/png": "[encoded data removed]"
     },
     "metadata": {},
     "output_type": "display_data"
    },
    {
     "data": {
      "text/plain": [
       "<Figure size 640x480 with 1 Axes>"
      ],
      "image/png": "[encoded data removed]"
     },
     "metadata": {},
     "output_type": "display_data"
    },
    {
     "data": {
      "text/plain": [
       "<Figure size 640x480 with 1 Axes>"
      ],
      "image/png": "[encoded data removed]"
     },
     "metadata": {},
     "output_type": "display_data"
    },
    {
     "data": {
      "text/plain": [
       "<Figure size 640x480 with 1 Axes>"
      ],
      "image/png": "[encoded data removed]"
     },
     "metadata": {},
     "output_type": "display_data"
    },
    {
     "data": {
      "text/plain": [
       "<Figure size 640x480 with 1 Axes>"
      ],
      "image/png": "[encoded data removed]"
     },
     "metadata": {},
     "output_type": "display_data"
    }
   ],
   "execution_count": 6
  },
  {
   "metadata": {
    "ExecuteTime": {
     "end_time": "2025-02-03T20:46:50.975334Z",
     "start_time": "2025-02-03T20:46:50.946332Z"
    }
   },
   "cell_type": "code",
   "source": [
    "# summary of categorical variables\n",
    "categorical_columns = [\"workclass\", \"education\", \"marital.status\", \"occupation\", \"relationship\", \"race\", \"sex\", \"native.country\", \"income\"]\n",
    "for col in categorical_columns:\n",
    "    print(f\"====Value counts for {col}====\")\n",
    "    print(census[col].value_counts())"
   ],
   "id": "a7279ec4d2314a57",
   "outputs": [
    {
     "name": "stdout",
     "output_type": "stream",
     "text": [
      "====Value counts for workclass====\n",
      "workclass\n",
      "Private             22696\n",
      "Self-emp-not-inc     2541\n",
      "Local-gov            2093\n",
      "State-gov            1298\n",
      "Self-emp-inc         1116\n",
      "Federal-gov           960\n",
      "Without-pay            14\n",
      "Never-worked            7\n",
      "Name: count, dtype: int64\n",
      "====Value counts for education====\n",
      "education\n",
      "HS-grad         10501\n",
      "Some-college     7291\n",
      "Bachelors        5355\n",
      "Masters          1723\n",
      "Assoc-voc        1382\n",
      "11th             1175\n",
      "Assoc-acdm       1067\n",
      "10th              933\n",
      "7th-8th           646\n",
      "Prof-school       576\n",
      "9th               514\n",
      "12th              433\n",
      "Doctorate         413\n",
      "5th-6th           333\n",
      "1st-4th           168\n",
      "Preschool          51\n",
      "Name: count, dtype: int64\n",
      "====Value counts for marital.status====\n",
      "marital.status\n",
      "Married-civ-spouse       14976\n",
      "Never-married            10683\n",
      "Divorced                  4443\n",
      "Separated                 1025\n",
      "Widowed                    993\n",
      "Married-spouse-absent      418\n",
      "Married-AF-spouse           23\n",
      "Name: count, dtype: int64\n",
      "====Value counts for occupation====\n",
      "occupation\n",
      "Prof-specialty       4140\n",
      "Craft-repair         4099\n",
      "Exec-managerial      4066\n",
      "Adm-clerical         3770\n",
      "Sales                3650\n",
      "Other-service        3295\n",
      "Machine-op-inspct    2002\n",
      "Transport-moving     1597\n",
      "Handlers-cleaners    1370\n",
      "Farming-fishing       994\n",
      "Tech-support          928\n",
      "Protective-serv       649\n",
      "Priv-house-serv       149\n",
      "Armed-Forces            9\n",
      "Name: count, dtype: int64\n",
      "====Value counts for relationship====\n",
      "relationship\n",
      "Husband           13193\n",
      "Not-in-family      8305\n",
      "Own-child          5068\n",
      "Unmarried          3446\n",
      "Wife               1568\n",
      "Other-relative      981\n",
      "Name: count, dtype: int64\n",
      "====Value counts for race====\n",
      "race\n",
      "White                 27816\n",
      "Black                  3124\n",
      "Asian-Pac-Islander     1039\n",
      "Amer-Indian-Eskimo      311\n",
      "Other                   271\n",
      "Name: count, dtype: int64\n",
      "====Value counts for sex====\n",
      "sex\n",
      "Male      21790\n",
      "Female    10771\n",
      "Name: count, dtype: int64\n",
      "====Value counts for native.country====\n",
      "native.country\n",
      "United-States                 29170\n",
      "Mexico                          643\n",
      "Philippines                     198\n",
      "Germany                         137\n",
      "Canada                          121\n",
      "Puerto-Rico                     114\n",
      "El-Salvador                     106\n",
      "India                           100\n",
      "Cuba                             95\n",
      "England                          90\n",
      "Jamaica                          81\n",
      "South                            80\n",
      "China                            75\n",
      "Italy                            73\n",
      "Dominican-Republic               70\n",
      "Vietnam                          67\n",
      "Guatemala                        64\n",
      "Japan                            62\n",
      "Poland                           60\n",
      "Columbia                         59\n",
      "Taiwan                           51\n",
      "Haiti                            44\n",
      "Iran                             43\n",
      "Portugal                         37\n",
      "Nicaragua                        34\n",
      "Peru                             31\n",
      "Greece                           29\n",
      "France                           29\n",
      "Ecuador                          28\n",
      "Ireland                          24\n",
      "Hong                             20\n",
      "Trinadad&Tobago                  19\n",
      "Cambodia                         19\n",
      "Thailand                         18\n",
      "Laos                             18\n",
      "Yugoslavia                       16\n",
      "Outlying-US(Guam-USVI-etc)       14\n",
      "Hungary                          13\n",
      "Honduras                         13\n",
      "Scotland                         12\n",
      "Holand-Netherlands                1\n",
      "Name: count, dtype: int64\n",
      "====Value counts for income====\n",
      "income\n",
      "<=50K    24720\n",
      ">50K      7841\n",
      "Name: count, dtype: int64\n"
     ]
    }
   ],
   "execution_count": 7
  },
  {
   "metadata": {
    "ExecuteTime": {
     "end_time": "2025-02-03T20:46:51.022334Z",
     "start_time": "2025-02-03T20:46:50.996330Z"
    }
   },
   "cell_type": "code",
   "source": [
    "# checking missing values\n",
    "print(\"Missing values count:\")\n",
    "print(census.isnull().sum())"
   ],
   "id": "64ae0695e5b1f95e",
   "outputs": [
    {
     "name": "stdout",
     "output_type": "stream",
     "text": [
      "Missing values count:\n",
      "age                  0\n",
      "workclass         1836\n",
      "fnlwgt               0\n",
      "education            0\n",
      "education.num        0\n",
      "marital.status       0\n",
      "occupation        1843\n",
      "relationship         0\n",
      "race                 0\n",
      "sex                  0\n",
      "capital.gain         0\n",
      "capital.loss         0\n",
      "hours.per.week       0\n",
      "native.country     583\n",
      "income               0\n",
      "dtype: int64\n"
     ]
    }
   ],
   "execution_count": 8
  },
  {
   "metadata": {
    "ExecuteTime": {
     "end_time": "2025-02-03T20:46:51.069334Z",
     "start_time": "2025-02-03T20:46:51.042331Z"
    }
   },
   "cell_type": "code",
   "source": [
    "# cleaning data\n",
    "census.dropna(inplace=True)\n",
    "print(f\"Dataset after cleaning: {census.shape}\")"
   ],
   "id": "6eb8499f529e213d",
   "outputs": [
    {
     "name": "stdout",
     "output_type": "stream",
     "text": [
      "Dataset after cleaning: (30162, 15)\n"
     ]
    }
   ],
   "execution_count": 9
  },
  {
   "metadata": {
    "ExecuteTime": {
     "end_time": "2025-02-03T20:46:51.101019Z",
     "start_time": "2025-02-03T20:46:51.086920Z"
    }
   },
   "cell_type": "code",
   "source": [
    "# grouping countries\n",
    "census[\"native.country\"] = census[\"native.country\"].apply(lambda x: x if x == \"United-States\" else \"Other\")\n",
    "print(census[\"native.country\"].value_counts())"
   ],
   "id": "79bcba13686e6d7a",
   "outputs": [
    {
     "name": "stdout",
     "output_type": "stream",
     "text": [
      "native.country\n",
      "United-States    27504\n",
      "Other             2658\n",
      "Name: count, dtype: int64\n"
     ]
    }
   ],
   "execution_count": 10
  },
  {
   "metadata": {
    "ExecuteTime": {
     "end_time": "2025-02-03T20:46:51.132406Z",
     "start_time": "2025-02-03T20:46:51.117412Z"
    }
   },
   "cell_type": "code",
   "source": [
    "# choosing variables to the model\n",
    "census2 = census[[\"age\", \"workclass\", \"marital.status\", \"education.num\", \"occupation\", \"hours.per.week\", \"income\"]]"
   ],
   "id": "79d64acad635df01",
   "outputs": [],
   "execution_count": 11
  },
  {
   "metadata": {
    "ExecuteTime": {
     "end_time": "2025-02-03T20:46:51.164137Z",
     "start_time": "2025-02-03T20:46:51.149133Z"
    }
   },
   "cell_type": "code",
   "source": [
    "# converting categorical variables\n",
    "census2 = pd.get_dummies(census2, drop_first=True)"
   ],
   "id": "d6aceaa9f3d4107c",
   "outputs": [],
   "execution_count": 12
  },
  {
   "metadata": {
    "ExecuteTime": {
     "end_time": "2025-02-03T20:46:51.211963Z",
     "start_time": "2025-02-03T20:46:51.196961Z"
    }
   },
   "cell_type": "code",
   "source": [
    "# Spliting dataset to train and test\n",
    "X = census2.drop(columns=[\"income_>50K\"])\n",
    "y = census2[\"income_>50K\"]\n",
    "X_train, X_test, y_train, y_test = train_test_split(X, y, test_size=0.2, random_state=42)"
   ],
   "id": "95aa77e1800af22e",
   "outputs": [],
   "execution_count": 13
  },
  {
   "metadata": {
    "ExecuteTime": {
     "end_time": "2025-02-03T20:46:51.227978Z",
     "start_time": "2025-02-03T20:46:51.216965Z"
    }
   },
   "cell_type": "code",
   "source": [
    "# function to calculate metrics\n",
    "def get_metrics(y_true, y_pred):\n",
    "    cm = confusion_matrix(y_true, y_pred)\n",
    "    tn, fp, fn, tp = cm.ravel()\n",
    "    metrics = {\n",
    "        \"Sensitivity\": recall_score(y_true, y_pred),\n",
    "        \"Specificity\": tn / (tn + fp),\n",
    "        \"Pos Pred Value\": precision_score(y_true, y_pred),\n",
    "        \"Neg Pred Value\": tn / (tn + fn),\n",
    "        \"Precision\": precision_score(y_true, y_pred),\n",
    "        \"Recall\": recall_score(y_true, y_pred),\n",
    "        \"F1\": f1_score(y_true, y_pred),\n",
    "        \"Prevalence\": np.mean(y_true),\n",
    "        \"Detection Rate\": tp / len(y_true),\n",
    "        \"Detection Prevalence\": (tp + fp) / len(y_true),\n",
    "        \"Balanced Accuracy\": accuracy_score(y_true, y_pred)\n",
    "    }\n",
    "    return metrics"
   ],
   "id": "9242729840d2b8e0",
   "outputs": [],
   "execution_count": 14
  },
  {
   "metadata": {
    "ExecuteTime": {
     "end_time": "2025-02-03T20:46:52.108064Z",
     "start_time": "2025-02-03T20:46:51.291365Z"
    }
   },
   "cell_type": "code",
   "source": [
    "# Model 1: Logistic regression\n",
    "log_model = LogisticRegression(max_iter=1000)\n",
    "log_model.fit(X_train, y_train)\n",
    "y_pred1 = log_model.predict(X_test)\n",
    "print(\"Logistic Regression Model:\")\n",
    "print(classification_report(y_test, y_pred1))"
   ],
   "id": "8440ae3fc4195a39",
   "outputs": [
    {
     "name": "stdout",
     "output_type": "stream",
     "text": [
      "Logistic Regression Model:\n",
      "              precision    recall  f1-score   support\n",
      "\n",
      "       False       0.86      0.91      0.88      4533\n",
      "        True       0.67      0.54      0.60      1500\n",
      "\n",
      "    accuracy                           0.82      6033\n",
      "   macro avg       0.76      0.73      0.74      6033\n",
      "weighted avg       0.81      0.82      0.81      6033\n",
      "\n"
     ]
    }
   ],
   "execution_count": 15
  },
  {
   "metadata": {
    "ExecuteTime": {
     "end_time": "2025-02-03T20:46:52.217599Z",
     "start_time": "2025-02-03T20:46:52.118650Z"
    }
   },
   "cell_type": "code",
   "source": [
    "# Model 2: Decision Tree\n",
    "dt_model = DecisionTreeClassifier()\n",
    "dt_model.fit(X_train, y_train)\n",
    "y_pred2 = dt_model.predict(X_test)\n",
    "print(\"Decision Tree Model:\")\n",
    "print(classification_report(y_test, y_pred2))"
   ],
   "id": "e1f841eb59bd7b61",
   "outputs": [
    {
     "name": "stdout",
     "output_type": "stream",
     "text": [
      "Decision Tree Model:\n",
      "              precision    recall  f1-score   support\n",
      "\n",
      "       False       0.85      0.87      0.86      4533\n",
      "        True       0.57      0.53      0.55      1500\n",
      "\n",
      "    accuracy                           0.79      6033\n",
      "   macro avg       0.71      0.70      0.71      6033\n",
      "weighted avg       0.78      0.79      0.78      6033\n",
      "\n"
     ]
    }
   ],
   "execution_count": 16
  },
  {
   "metadata": {
    "ExecuteTime": {
     "end_time": "2025-02-03T20:46:59.698099Z",
     "start_time": "2025-02-03T20:46:52.248815Z"
    }
   },
   "cell_type": "code",
   "source": [
    "# Model 3: Random Forest\n",
    "rf_model = RandomForestClassifier(n_estimators=500, random_state=42)\n",
    "rf_model.fit(X_train, y_train)\n",
    "y_pred3 = rf_model.predict(X_test)\n",
    "print(\"Random Forest Model:\")\n",
    "print(classification_report(y_test, y_pred3))"
   ],
   "id": "b42a550cd4f838e3",
   "outputs": [
    {
     "name": "stdout",
     "output_type": "stream",
     "text": [
      "Random Forest Model:\n",
      "              precision    recall  f1-score   support\n",
      "\n",
      "       False       0.86      0.90      0.88      4533\n",
      "        True       0.65      0.54      0.59      1500\n",
      "\n",
      "    accuracy                           0.81      6033\n",
      "   macro avg       0.75      0.72      0.73      6033\n",
      "weighted avg       0.80      0.81      0.81      6033\n",
      "\n"
     ]
    }
   ],
   "execution_count": 17
  },
  {
   "metadata": {
    "ExecuteTime": {
     "end_time": "2025-02-03T20:46:59.760204Z",
     "start_time": "2025-02-03T20:46:59.730095Z"
    }
   },
   "cell_type": "code",
   "source": [
    "# Results\n",
    "results = pd.DataFrame({\n",
    "    \"Logistic Regression\": precision_score(y_test, y_pred1),\n",
    "    \"Decision Tree\": precision_score(y_test, y_pred2),\n",
    "    \"Random Forest\": precision_score(y_test, y_pred3)\n",
    "}, index=[\"Precision\"])\n",
    "print(results)"
   ],
   "id": "eb228b2ee67624c8",
   "outputs": [
    {
     "name": "stdout",
     "output_type": "stream",
     "text": [
      "           Logistic Regression  Decision Tree  Random Forest\n",
      "Precision              0.67052       0.574946       0.648089\n"
     ]
    }
   ],
   "execution_count": 18
  },
  {
   "metadata": {
    "ExecuteTime": {
     "end_time": "2025-02-03T20:46:59.806642Z",
     "start_time": "2025-02-03T20:46:59.792628Z"
    }
   },
   "cell_type": "code",
   "source": [
    "# Cofusion matrix\n",
    "matrix_03 = confusion_matrix(y_test, y_pred3)\n",
    "print(\"Confusion Matrix - Random Forest:\")\n",
    "cm = pd.DataFrame(matrix_03,index = [\"N\",\"P\"],columns = [\"N\",\"P\"])\n",
    "print(cm)"
   ],
   "id": "4446e2d30d21a1f",
   "outputs": [
    {
     "name": "stdout",
     "output_type": "stream",
     "text": [
      "Confusion Matrix - Random Forest:\n",
      "      N    P\n",
      "N  4091  442\n",
      "P   686  814\n"
     ]
    }
   ],
   "execution_count": 19
  },
  {
   "metadata": {
    "ExecuteTime": {
     "end_time": "2025-02-03T20:47:05.926361Z",
     "start_time": "2025-02-03T20:46:59.840637Z"
    }
   },
   "cell_type": "code",
   "source": [
    "# Model 4: Gradient Boosting\n",
    "gb_model = GradientBoostingClassifier(n_estimators=500, random_state=42)\n",
    "gb_model.fit(X_train, y_train)\n",
    "y_pred4 = gb_model.predict(X_test)\n",
    "print(\"Gradient Boosting Model:\")\n",
    "print(classification_report(y_test, y_pred4))"
   ],
   "id": "c228d6561cbaa097",
   "outputs": [
    {
     "name": "stdout",
     "output_type": "stream",
     "text": [
      "Gradient Boosting Model:\n",
      "              precision    recall  f1-score   support\n",
      "\n",
      "       False       0.87      0.91      0.89      4533\n",
      "        True       0.69      0.59      0.64      1500\n",
      "\n",
      "    accuracy                           0.83      6033\n",
      "   macro avg       0.78      0.75      0.76      6033\n",
      "weighted avg       0.83      0.83      0.83      6033\n",
      "\n"
     ]
    }
   ],
   "execution_count": 20
  },
  {
   "metadata": {
    "ExecuteTime": {
     "end_time": "2025-02-03T20:47:05.974909Z",
     "start_time": "2025-02-03T20:47:05.960681Z"
    }
   },
   "cell_type": "code",
   "source": [
    "matrix_04 = confusion_matrix(y_test, y_pred4)\n",
    "print(\"Confusion Matrix - Gradient Boosting:\")\n",
    "print(matrix_04)"
   ],
   "id": "c24eb0f04109dae1",
   "outputs": [
    {
     "name": "stdout",
     "output_type": "stream",
     "text": [
      "Confusion Matrix - Gradient Boosting:\n",
      "[[4142  391]\n",
      " [ 615  885]]\n"
     ]
    }
   ],
   "execution_count": 21
  },
  {
   "metadata": {
    "ExecuteTime": {
     "end_time": "2025-02-03T20:47:06.128738Z",
     "start_time": "2025-02-03T20:47:06.053970Z"
    }
   },
   "cell_type": "code",
   "source": [
    "results_dict = {\n",
    "    \"Logistic Regression\": get_metrics(y_test, y_pred1),\n",
    "    \"Decision Tree\": get_metrics(y_test, y_pred2),\n",
    "    \"Random Forest\": get_metrics(y_test, y_pred3),\n",
    "    \"Gradient Boosting\": get_metrics(y_test, y_pred4)\n",
    "}\n",
    "results_df = pd.DataFrame(results_dict)\n",
    "results_df"
   ],
   "id": "80479baff400703b",
   "outputs": [
    {
     "data": {
      "text/plain": [
       "                      Logistic Regression  Decision Tree  Random Forest  \\\n",
       "Sensitivity                      0.541333       0.529333       0.542667   \n",
       "Specificity                      0.911979       0.870505       0.902493   \n",
       "Pos Pred Value                   0.670520       0.574946       0.648089   \n",
       "Neg Pred Value                   0.857321       0.848237       0.856395   \n",
       "Precision                        0.670520       0.574946       0.648089   \n",
       "Recall                           0.541333       0.529333       0.542667   \n",
       "F1                               0.599041       0.551198       0.590711   \n",
       "Prevalence                       0.248633       0.248633       0.248633   \n",
       "Detection Rate                   0.134593       0.131609       0.134925   \n",
       "Detection Prevalence             0.200729       0.228908       0.208188   \n",
       "Balanced Accuracy                0.819824       0.785679       0.813028   \n",
       "\n",
       "                      Gradient Boosting  \n",
       "Sensitivity                    0.590000  \n",
       "Specificity                    0.913744  \n",
       "Pos Pred Value                 0.693574  \n",
       "Neg Pred Value                 0.870717  \n",
       "Precision                      0.693574  \n",
       "Recall                         0.590000  \n",
       "F1                             0.637608  \n",
       "Prevalence                     0.248633  \n",
       "Detection Rate                 0.146693  \n",
       "Detection Prevalence           0.211503  \n",
       "Balanced Accuracy              0.833250  "
      ],
      "text/html": [
       "<div>\n",
       "<style scoped>\n",
       "    .dataframe tbody tr th:only-of-type {\n",
       "        vertical-align: middle;\n",
       "    }\n",
       "\n",
       "    .dataframe tbody tr th {\n",
       "        vertical-align: top;\n",
       "    }\n",
       "\n",
       "    .dataframe thead th {\n",
       "        text-align: right;\n",
       "    }\n",
       "</style>\n",
       "<table border=\"1\" class=\"dataframe\">\n",
       "  <thead>\n",
       "    <tr style=\"text-align: right;\">\n",
       "      <th></th>\n",
       "      <th>Logistic Regression</th>\n",
       "      <th>Decision Tree</th>\n",
       "      <th>Random Forest</th>\n",
       "      <th>Gradient Boosting</th>\n",
       "    </tr>\n",
       "  </thead>\n",
       "  <tbody>\n",
       "    <tr>\n",
       "      <th>Sensitivity</th>\n",
       "      <td>0.541333</td>\n",
       "      <td>0.529333</td>\n",
       "      <td>0.542667</td>\n",
       "      <td>0.590000</td>\n",
       "    </tr>\n",
       "    <tr>\n",
       "      <th>Specificity</th>\n",
       "      <td>0.911979</td>\n",
       "      <td>0.870505</td>\n",
       "      <td>0.902493</td>\n",
       "      <td>0.913744</td>\n",
       "    </tr>\n",
       "    <tr>\n",
       "      <th>Pos Pred Value</th>\n",
       "      <td>0.670520</td>\n",
       "      <td>0.574946</td>\n",
       "      <td>0.648089</td>\n",
       "      <td>0.693574</td>\n",
       "    </tr>\n",
       "    <tr>\n",
       "      <th>Neg Pred Value</th>\n",
       "      <td>0.857321</td>\n",
       "      <td>0.848237</td>\n",
       "      <td>0.856395</td>\n",
       "      <td>0.870717</td>\n",
       "    </tr>\n",
       "    <tr>\n",
       "      <th>Precision</th>\n",
       "      <td>0.670520</td>\n",
       "      <td>0.574946</td>\n",
       "      <td>0.648089</td>\n",
       "      <td>0.693574</td>\n",
       "    </tr>\n",
       "    <tr>\n",
       "      <th>Recall</th>\n",
       "      <td>0.541333</td>\n",
       "      <td>0.529333</td>\n",
       "      <td>0.542667</td>\n",
       "      <td>0.590000</td>\n",
       "    </tr>\n",
       "    <tr>\n",
       "      <th>F1</th>\n",
       "      <td>0.599041</td>\n",
       "      <td>0.551198</td>\n",
       "      <td>0.590711</td>\n",
       "      <td>0.637608</td>\n",
       "    </tr>\n",
       "    <tr>\n",
       "      <th>Prevalence</th>\n",
       "      <td>0.248633</td>\n",
       "      <td>0.248633</td>\n",
       "      <td>0.248633</td>\n",
       "      <td>0.248633</td>\n",
       "    </tr>\n",
       "    <tr>\n",
       "      <th>Detection Rate</th>\n",
       "      <td>0.134593</td>\n",
       "      <td>0.131609</td>\n",
       "      <td>0.134925</td>\n",
       "      <td>0.146693</td>\n",
       "    </tr>\n",
       "    <tr>\n",
       "      <th>Detection Prevalence</th>\n",
       "      <td>0.200729</td>\n",
       "      <td>0.228908</td>\n",
       "      <td>0.208188</td>\n",
       "      <td>0.211503</td>\n",
       "    </tr>\n",
       "    <tr>\n",
       "      <th>Balanced Accuracy</th>\n",
       "      <td>0.819824</td>\n",
       "      <td>0.785679</td>\n",
       "      <td>0.813028</td>\n",
       "      <td>0.833250</td>\n",
       "    </tr>\n",
       "  </tbody>\n",
       "</table>\n",
       "</div>"
      ]
     },
     "execution_count": 22,
     "metadata": {},
     "output_type": "execute_result"
    }
   ],
   "execution_count": 22
  },
  {
   "metadata": {},
   "cell_type": "raw",
   "source": "Jako najlepszy model wybieram Gradient Boosting. Model osiągnął najwyższe wyniki czułości (identyfikowania osób zarabiających >50K) i precyzji (procent poprawnych pozytywnych predykcji). Najwyższy wynik F1 wskazuje na najlepsze równoważenie precyzji i czułości oraz model osiągnął najlepszą ogólną skuteczność mierzoną wynikiem balanced accuracy (~0.833)",
   "id": "5bf03d98741e2c89"
  }
 ],
 "metadata": {
  "kernelspec": {
   "display_name": "Python 3",
   "language": "python",
   "name": "python3"
  },
  "language_info": {
   "codemirror_mode": {
    "name": "ipython",
    "version": 2
   },
   "file_extension": ".py",
   "mimetype": "text/x-python",
   "name": "python",
   "nbconvert_exporter": "python",
   "pygments_lexer": "ipython2",
   "version": "2.7.6"
  }
 },
 "nbformat": 4,
 "nbformat_minor": 5
}
